{
 "cells": [
  {
   "cell_type": "code",
   "execution_count": null,
   "metadata": {},
   "outputs": [],
   "source": [
    "from selenium import webdriver \n",
    "from selenium.webdriver.common.keys import Keys \n",
    "from bs4 import BeautifulSoup \n",
    "import pandas as pd \n",
    "import time "
   ]
  },
  {
   "cell_type": "code",
   "execution_count": null,
   "metadata": {},
   "outputs": [],
   "source": [
    "driver = webdriver.Chrome('/Users/ranaik/Downloads/chromedriver')\n",
    "driver.get('https://www.thewhiskyexchange.com/')"
   ]
  },
  {
   "cell_type": "code",
   "execution_count": null,
   "metadata": {},
   "outputs": [],
   "source": [
    "time.sleep(2)\n",
    "#Countering the pop up \n",
    "preferences = driver.find_element('xpath', '//*[@id=\"termly-code-snippet-support\"]/div/div/div/div/div/div[2]/div[1]/button').click()\n",
    "preferences\n",
    "#Declining the cookie\n",
    "time.sleep(2) \n",
    "decline_all = driver.find_element('xpath', '//*[@id=\"termly-code-snippet-support\"]/div/div/div/div[3]/button[1]').click()\n",
    "decline_all "
   ]
  },
  {
   "cell_type": "code",
   "execution_count": null,
   "metadata": {},
   "outputs": [],
   "source": [
    "#Entering our product in the search box \n",
    "time.sleep(2)\n",
    "temp_search_box = driver.find_element('xpath', '//*[@id=\"txtSearchInput\"]').click()\n",
    "search_box = driver.find_element('xpath', '/html/body/div[2]/article/div/header/div/input')\n",
    "search_box.send_keys('Japanese Whisky')\n",
    "temp_search_box\n",
    "search_box.send_keys(Keys.ENTER)"
   ]
  },
  {
   "cell_type": "code",
   "execution_count": null,
   "metadata": {},
   "outputs": [],
   "source": [
    "\n",
    "#Scraping data of the product \n",
    "df = pd.DataFrame({'Name': [''], 'Centi-Litres': [''], 'Price': [''], 'Price-Per-Litre': [''], 'Link': ['']})\n",
    "\n",
    "x = 1 \n",
    "while (x <= 5 ):\n",
    "    try:\n",
    "        time.sleep(1.5)\n",
    "        soup = BeautifulSoup(driver.page_source, 'lxml')\n",
    "        postings = soup.find_all('li', class_ = 'product-grid__item')\n",
    "\n",
    "        for post in postings:\n",
    "            name = post.find('p', class_ = 'product-card__name').text \n",
    "            centi_litres = post.find('p', class_ = 'product-card__meta').text \n",
    "            price = post.find('p', class_ = 'product-card__price').text \n",
    "            price_per_litre = post.find('p', class_ = 'product-card__unit-price').text \n",
    "            link ='https://www.thewhiskyexchange.com' + post.find('a', class_ = 'product-card').get('href')\n",
    "            df = df.append({'Name': name, 'Centi-Litres': centi_litres, 'Price': price, 'Price-Per-Litre': price_per_litre, 'Link': link}, ignore_index = True)\n",
    "\n",
    "        driver.find_element('xpath', '//*[@id=\"content\"]/section[4]/div[2]/nav/a[2]').click()\n",
    "        x += 1 \n",
    "        \n",
    "    except:\n",
    "        pass\n",
    "        # break            \n",
    "\n",
    "df "
   ]
  }
 ],
 "metadata": {
  "interpreter": {
   "hash": "e26836c7217fc1b5a05efa35327bcc9f5fcb70871575e2670ef5c0dec7843194"
  },
  "kernelspec": {
   "display_name": "Python 3.9.12 64-bit ('anaconda3')",
   "language": "python",
   "name": "python3"
  },
  "language_info": {
   "codemirror_mode": {
    "name": "ipython",
    "version": 3
   },
   "file_extension": ".py",
   "mimetype": "text/x-python",
   "name": "python",
   "nbconvert_exporter": "python",
   "pygments_lexer": "ipython3",
   "version": "3.9.12"
  },
  "orig_nbformat": 4
 },
 "nbformat": 4,
 "nbformat_minor": 2
}
